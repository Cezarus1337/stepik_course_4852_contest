{
 "cells": [
  {
   "cell_type": "markdown",
   "metadata": {
    "heading_collapsed": true
   },
   "source": [
    "# Описание\n",
    "Здесь представлена модель для [соревнования](https://stepik.org/lesson/226979/step/1?unit=199528), \n",
    "который дается в конце курса [\"Введение в Data Science и машинное обучение\"](https://stepik.org/course/4852/) на stepic.\n",
    "\n",
    "ROC score на сабмите 0.8926\n",
    "\n",
    "Особенность модели в том, что использованы признаки, которые **автоматически** сгенерированы с помощью библотек [featuretools](https://github.com/Featuretools/featuretools) и [tsfresh](https://tsfresh.readthedocs.io/en/latest/).\n",
    "\n",
    "У меня было желание проверить какое качество можно получить с помощью подхода автоматического создания признаков. "
   ]
  },
  {
   "cell_type": "markdown",
   "metadata": {},
   "source": [
    "# Импорт"
   ]
  },
  {
   "cell_type": "code",
   "execution_count": 1,
   "metadata": {
    "ExecuteTime": {
     "end_time": "2019-06-06T12:15:06.097701Z",
     "start_time": "2019-06-06T12:15:04.085780Z"
    }
   },
   "outputs": [
    {
     "name": "stderr",
     "output_type": "stream",
     "text": [
      "/home/jupyter/ve/lib/python3.6/site-packages/sklearn/externals/joblib/__init__.py:15: DeprecationWarning: sklearn.externals.joblib is deprecated in 0.21 and will be removed in 0.23. Please import this functionality directly from joblib, which can be installed with: pip install joblib. If this warning is raised when loading pickled models, you may need to re-serialize those models with scikit-learn 0.21+.\n",
      "  warnings.warn(msg, category=DeprecationWarning)\n"
     ]
    }
   ],
   "source": [
    "%load_ext autoreload\n",
    "%autoreload 2\n",
    "\n",
    "import sys\n",
    "import os\n",
    "\n",
    "import pandas as pd\n",
    "import numpy as np\n",
    "import matplotlib.pyplot as plt\n",
    "%matplotlib inline\n",
    "\n",
    "from tqdm import tqdm, tqdm_notebook\n",
    "import datetime\n",
    "\n",
    "from sklearn.ensemble import RandomForestClassifier\n",
    "from sklearn.model_selection import train_test_split, cross_val_score\n",
    "from sklearn.metrics import classification_report, roc_auc_score, confusion_matrix\n",
    "from sklearn.externals import joblib\n",
    "\n",
    "sys.path.append(os.path.join(sys.path[0], '../'))\n",
    "\n",
    "import libs.config as conf\n",
    "import libs.data_helpers as dh\n",
    "import libs.data_iter_auto as di\n",
    "import libs.utils.model_utils as mu\n",
    "import libs.submit_report as rep\n",
    "\n",
    "from IPython.core.interactiveshell import InteractiveShell\n",
    "InteractiveShell.ast_node_interactivity = \"all\""
   ]
  },
  {
   "cell_type": "markdown",
   "metadata": {},
   "source": [
    "# Загрузка и подготовка данных"
   ]
  },
  {
   "cell_type": "code",
   "execution_count": 2,
   "metadata": {
    "ExecuteTime": {
     "end_time": "2019-06-06T12:15:40.663915Z",
     "start_time": "2019-06-06T12:15:06.107605Z"
    }
   },
   "outputs": [
    {
     "name": "stderr",
     "output_type": "stream",
     "text": [
      "/home/jupyter/ve/lib/python3.6/site-packages/IPython/core/interactiveshell.py:2910: DtypeWarning: Columns (231,232) have mixed types. Specify dtype option on import or set low_memory=False.\n",
      "  exec(code_obj, self.user_global_ns, self.user_ns)\n",
      "/home/jupyter/ve/lib/python3.6/site-packages/IPython/core/interactiveshell.py:2910: DtypeWarning: Columns (413) have mixed types. Specify dtype option on import or set low_memory=False.\n",
      "  exec(code_obj, self.user_global_ns, self.user_ns)\n"
     ]
    },
    {
     "name": "stdout",
     "output_type": "stream",
     "text": [
      "X_cv shape (19234, 354)\n"
     ]
    },
    {
     "data": {
      "text/plain": [
       "False    17266\n",
       "True      1968\n",
       "Name: is_gone, dtype: int64"
      ]
     },
     "execution_count": 2,
     "metadata": {},
     "output_type": "execute_result"
    }
   ],
   "source": [
    "# загрузка данных\n",
    "events  = pd.read_csv(f\"{conf.DATA_DIR}/event_data_train.zip\")\n",
    "submissions = pd.read_csv(f\"{conf.DATA_DIR}/submissions_data_train.zip\")\n",
    "\n",
    "# генерация признаков\n",
    "X_cv, y_cv = di.get_x_y(events, submissions)\n",
    "print ('X_cv shape', X_cv.shape)\n",
    "y_cv.value_counts(dropna=False)"
   ]
  },
  {
   "cell_type": "code",
   "execution_count": 3,
   "metadata": {
    "ExecuteTime": {
     "end_time": "2019-06-06T12:15:40.925652Z",
     "start_time": "2019-06-06T12:15:40.673934Z"
    }
   },
   "outputs": [
    {
     "name": "stdout",
     "output_type": "stream",
     "text": [
      "X_train shape (15387, 354)\n"
     ]
    },
    {
     "data": {
      "text/plain": [
       "False    13813\n",
       "True      1574\n",
       "Name: is_gone, dtype: int64"
      ]
     },
     "execution_count": 3,
     "metadata": {},
     "output_type": "execute_result"
    }
   ],
   "source": [
    "# разделение данных для обучения на train и test\n",
    "X_train, X_test, y_train, y_test = train_test_split(X_cv, y_cv, test_size=0.2, stratify=y_cv)\n",
    "print ('X_train shape', X_train.shape)\n",
    "y_train.value_counts(dropna=False)"
   ]
  },
  {
   "cell_type": "markdown",
   "metadata": {},
   "source": [
    "# Обучение и проверка модели"
   ]
  },
  {
   "cell_type": "markdown",
   "metadata": {},
   "source": [
    "## RandomForest"
   ]
  },
  {
   "cell_type": "code",
   "execution_count": 4,
   "metadata": {
    "ExecuteTime": {
     "end_time": "2019-06-06T12:16:00.800634Z",
     "start_time": "2019-06-06T12:15:40.945658Z"
    }
   },
   "outputs": [
    {
     "data": {
      "text/plain": [
       "RandomForestClassifier(bootstrap=True, class_weight='balanced',\n",
       "                       criterion='gini', max_depth=None, max_features='auto',\n",
       "                       max_leaf_nodes=None, min_impurity_decrease=0.0,\n",
       "                       min_impurity_split=None, min_samples_leaf=10,\n",
       "                       min_samples_split=10, min_weight_fraction_leaf=0.0,\n",
       "                       n_estimators=100, n_jobs=2, oob_score=False,\n",
       "                       random_state=None, verbose=0, warm_start=False)"
      ]
     },
     "execution_count": 4,
     "metadata": {},
     "output_type": "execute_result"
    },
    {
     "name": "stdout",
     "output_type": "stream",
     "text": [
      "roc на test 0.8995657421413881\n"
     ]
    }
   ],
   "source": [
    "rf = RandomForestClassifier(n_estimators=100, n_jobs=2, \n",
    "                            min_samples_leaf=10, min_samples_split=10, \n",
    "                            class_weight='balanced')\n",
    "\n",
    "rf.fit(X_train, y_train)\n",
    "pred_proba = rf.predict_proba(X_test)\n",
    "roc_score = roc_auc_score(y_test, pred_proba[:, 1])\n",
    "print('roc на test', roc_score)\n",
    "# должны получить на тест roc 0.902  +- 0.02"
   ]
  },
  {
   "cell_type": "code",
   "execution_count": 5,
   "metadata": {
    "ExecuteTime": {
     "end_time": "2019-06-06T12:16:01.136563Z",
     "start_time": "2019-06-06T12:16:00.804852Z"
    }
   },
   "outputs": [
    {
     "data": {
      "text/html": [
       "<div>\n",
       "<style scoped>\n",
       "    .dataframe tbody tr th:only-of-type {\n",
       "        vertical-align: middle;\n",
       "    }\n",
       "\n",
       "    .dataframe tbody tr th {\n",
       "        vertical-align: top;\n",
       "    }\n",
       "\n",
       "    .dataframe thead th {\n",
       "        text-align: right;\n",
       "    }\n",
       "</style>\n",
       "<table border=\"1\" class=\"dataframe\">\n",
       "  <thead>\n",
       "    <tr style=\"text-align: right;\">\n",
       "      <th></th>\n",
       "      <th>weight</th>\n",
       "    </tr>\n",
       "  </thead>\n",
       "  <tbody>\n",
       "    <tr>\n",
       "      <th>correct__autocorrelation__lag_0</th>\n",
       "      <td>0.042068</td>\n",
       "    </tr>\n",
       "    <tr>\n",
       "      <th>correct__maximum</th>\n",
       "      <td>0.032710</td>\n",
       "    </tr>\n",
       "    <tr>\n",
       "      <th>correct__variance</th>\n",
       "      <td>0.030867</td>\n",
       "    </tr>\n",
       "    <tr>\n",
       "      <th>discovered__length</th>\n",
       "      <td>0.028925</td>\n",
       "    </tr>\n",
       "    <tr>\n",
       "      <th>viewed__mean</th>\n",
       "      <td>0.023730</td>\n",
       "    </tr>\n",
       "    <tr>\n",
       "      <th>viewed__minimum</th>\n",
       "      <td>0.021863</td>\n",
       "    </tr>\n",
       "    <tr>\n",
       "      <th>correct__mean</th>\n",
       "      <td>0.020449</td>\n",
       "    </tr>\n",
       "    <tr>\n",
       "      <th>passed__length</th>\n",
       "      <td>0.018527</td>\n",
       "    </tr>\n",
       "    <tr>\n",
       "      <th>started_attempt__length</th>\n",
       "      <td>0.016037</td>\n",
       "    </tr>\n",
       "    <tr>\n",
       "      <th>AVG_TIME_BETWEEN(events.date WHERE action = correct)</th>\n",
       "      <td>0.015941</td>\n",
       "    </tr>\n",
       "    <tr>\n",
       "      <th>wrong__length</th>\n",
       "      <td>0.013911</td>\n",
       "    </tr>\n",
       "    <tr>\n",
       "      <th>SUM(events.steps.step_block.options.code_templates_header_lines_count.r)</th>\n",
       "      <td>0.011802</td>\n",
       "    </tr>\n",
       "    <tr>\n",
       "      <th>MEAN(events.steps.step_discussions_count WHERE action = correct)</th>\n",
       "      <td>0.011192</td>\n",
       "    </tr>\n",
       "    <tr>\n",
       "      <th>TREND(events.DAYS_SINCE(date), date WHERE action = correct)</th>\n",
       "      <td>0.010908</td>\n",
       "    </tr>\n",
       "    <tr>\n",
       "      <th>MEAN(events.steps.lessons.lesson_vote_delta WHERE action = correct)</th>\n",
       "      <td>0.010582</td>\n",
       "    </tr>\n",
       "  </tbody>\n",
       "</table>\n",
       "</div>"
      ],
      "text/plain": [
       "                                                      weight\n",
       "correct__autocorrelation__lag_0                     0.042068\n",
       "correct__maximum                                    0.032710\n",
       "correct__variance                                   0.030867\n",
       "discovered__length                                  0.028925\n",
       "viewed__mean                                        0.023730\n",
       "viewed__minimum                                     0.021863\n",
       "correct__mean                                       0.020449\n",
       "passed__length                                      0.018527\n",
       "started_attempt__length                             0.016037\n",
       "AVG_TIME_BETWEEN(events.date WHERE action = cor...  0.015941\n",
       "wrong__length                                       0.013911\n",
       "SUM(events.steps.step_block.options.code_templa...  0.011802\n",
       "MEAN(events.steps.step_discussions_count WHERE ...  0.011192\n",
       "TREND(events.DAYS_SINCE(date), date WHERE actio...  0.010908\n",
       "MEAN(events.steps.lessons.lesson_vote_delta WHE...  0.010582"
      ]
     },
     "execution_count": 5,
     "metadata": {},
     "output_type": "execute_result"
    }
   ],
   "source": [
    "# важность фич\n",
    "fimp = mu.get_feature_importances_df(rf.feature_importances_, X_train.columns)\n",
    "fimp.head(15)"
   ]
  },
  {
   "cell_type": "markdown",
   "metadata": {},
   "source": [
    "## кроссвалидация"
   ]
  },
  {
   "cell_type": "code",
   "execution_count": 6,
   "metadata": {
    "ExecuteTime": {
     "end_time": "2019-06-06T12:17:00.490258Z",
     "start_time": "2019-06-06T12:16:01.147523Z"
    }
   },
   "outputs": [
    {
     "name": "stdout",
     "output_type": "stream",
     "text": [
      "mean score 0.9019103605131816\n"
     ]
    }
   ],
   "source": [
    "# значение к метрике на кроссвалидации коррелирует к метрике на степике\n",
    "\n",
    "rfcv = RandomForestClassifier(**rf.get_params())\n",
    "\n",
    "cv_scores = cross_val_score(rfcv, X_cv, y_cv, scoring='roc_auc', cv=10, n_jobs=-1)\n",
    "mean_cv_scores = np.mean(cv_scores)\n",
    "print ('mean score', mean_cv_scores)\n",
    "# должны получить срдений score 0.900 +- 0.02"
   ]
  },
  {
   "cell_type": "markdown",
   "metadata": {},
   "source": [
    "## Сохранение модели"
   ]
  },
  {
   "cell_type": "code",
   "execution_count": 7,
   "metadata": {
    "ExecuteTime": {
     "end_time": "2019-06-06T12:17:00.833465Z",
     "start_time": "2019-06-06T12:17:00.496437Z"
    }
   },
   "outputs": [
    {
     "name": "stdout",
     "output_type": "stream",
     "text": [
      "mkdir: cannot create directory ‘../bin_models’: File exists\r\n"
     ]
    },
    {
     "data": {
      "text/plain": [
       "['../bin_models/final_auto.bin']"
      ]
     },
     "execution_count": 7,
     "metadata": {},
     "output_type": "execute_result"
    }
   ],
   "source": [
    "# сохранить модель\n",
    "!mkdir $conf.BIN_MODELS_DIR\n",
    "model_fname = f\"{conf.BIN_MODELS_DIR}/final_auto.bin\"\n",
    "joblib.dump(rf, model_fname)\n",
    "\n",
    "# загрузка модели\n",
    "# rf = joblib.load(model_fname)"
   ]
  },
  {
   "cell_type": "markdown",
   "metadata": {},
   "source": [
    "# Сделать предсказание по сабмиту"
   ]
  },
  {
   "cell_type": "code",
   "execution_count": 8,
   "metadata": {
    "ExecuteTime": {
     "end_time": "2019-06-06T12:17:16.484271Z",
     "start_time": "2019-06-06T12:17:00.838261Z"
    }
   },
   "outputs": [
    {
     "name": "stderr",
     "output_type": "stream",
     "text": [
      "/home/jupyter/ve/lib/python3.6/site-packages/IPython/core/interactiveshell.py:2910: DtypeWarning: Columns (231,232) have mixed types. Specify dtype option on import or set low_memory=False.\n",
      "  exec(code_obj, self.user_global_ns, self.user_ns)\n",
      "/home/jupyter/ve/lib/python3.6/site-packages/IPython/core/interactiveshell.py:2910: DtypeWarning: Columns (413) have mixed types. Specify dtype option on import or set low_memory=False.\n",
      "  exec(code_obj, self.user_global_ns, self.user_ns)\n"
     ]
    },
    {
     "name": "stdout",
     "output_type": "stream",
     "text": [
      "Прогноз сохранен в файл  ../reports/predict_2019-06-06_submit_5.csv\n",
      "Распределение \"вероятностей\" модели\n"
     ]
    },
    {
     "data": {
      "text/plain": [
       "(0.0242, 0.117]    3443\n",
       "(0.117, 0.209]      358\n",
       "(0.209, 0.301]      547\n",
       "(0.301, 0.392]      663\n",
       "(0.392, 0.484]      364\n",
       "(0.484, 0.576]      255\n",
       "(0.576, 0.668]      185\n",
       "(0.668, 0.76]       156\n",
       "(0.76, 0.852]       132\n",
       "(0.852, 0.944]       81\n",
       "dtype: int64"
      ]
     },
     "execution_count": 8,
     "metadata": {},
     "output_type": "execute_result"
    }
   ],
   "source": [
    "SUBMIT_NUM = 5\n",
    "\n",
    "events_pred  = pd.read_csv(f\"{conf.DATA_DIR}/events_data_test.zip\")\n",
    "submissions_pred = pd.read_csv(f\"{conf.DATA_DIR}/submission_data_test.zip\")\n",
    "X_pred , _ = di.get_x_y(events_pred, submissions_pred)\n",
    "\n",
    "pred_proba = rf.predict_proba(X_pred)[:, 1]\n",
    "rep_df = rep.create_report(X_pred.index, pred_proba)\n",
    "assert rep_df.user_id.nunique() == X_pred.index.nunique()\n",
    "print ('Прогноз сохранен в файл ', rep.save_report(rep_df, SUBMIT_NUM))\n",
    "\n",
    "print ('Распределение \"вероятностей\" модели')\n",
    "pd.cut(pred_proba, 10).value_counts()"
   ]
  }
 ],
 "metadata": {
  "kernelspec": {
   "display_name": "Python 3",
   "language": "python",
   "name": "python3"
  },
  "language_info": {
   "codemirror_mode": {
    "name": "ipython",
    "version": 3
   },
   "file_extension": ".py",
   "mimetype": "text/x-python",
   "name": "python",
   "nbconvert_exporter": "python",
   "pygments_lexer": "ipython3",
   "version": "3.6.3"
  },
  "toc": {
   "nav_menu": {},
   "number_sections": true,
   "sideBar": true,
   "skip_h1_title": false,
   "toc_cell": false,
   "toc_position": {
    "height": "859px",
    "left": "0px",
    "right": "1708px",
    "top": "110px",
    "width": "212px"
   },
   "toc_section_display": "block",
   "toc_window_display": true
  },
  "varInspector": {
   "cols": {
    "lenName": 16,
    "lenType": 16,
    "lenVar": 40
   },
   "kernels_config": {
    "python": {
     "delete_cmd_postfix": "",
     "delete_cmd_prefix": "del ",
     "library": "var_list.py",
     "varRefreshCmd": "print(var_dic_list())"
    },
    "r": {
     "delete_cmd_postfix": ") ",
     "delete_cmd_prefix": "rm(",
     "library": "var_list.r",
     "varRefreshCmd": "cat(var_dic_list()) "
    }
   },
   "types_to_exclude": [
    "module",
    "function",
    "builtin_function_or_method",
    "instance",
    "_Feature"
   ],
   "window_display": false
  }
 },
 "nbformat": 4,
 "nbformat_minor": 2
}
